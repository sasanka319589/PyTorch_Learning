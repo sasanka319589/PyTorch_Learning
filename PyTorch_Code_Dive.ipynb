{
  "nbformat": 4,
  "nbformat_minor": 0,
  "metadata": {
    "colab": {
      "provenance": [],
      "gpuType": "T4",
      "authorship_tag": "ABX9TyPGArVtYpROtY3OUzs69jp4",
      "include_colab_link": true
    },
    "kernelspec": {
      "name": "python3",
      "display_name": "Python 3"
    },
    "language_info": {
      "name": "python"
    },
    "accelerator": "GPU"
  },
  "cells": [
    {
      "cell_type": "markdown",
      "metadata": {
        "id": "view-in-github",
        "colab_type": "text"
      },
      "source": [
        "<a href=\"https://colab.research.google.com/github/sasanka319589/PyTorch_Learning/blob/main/PyTorch_Code_Dive.ipynb\" target=\"_parent\"><img src=\"https://colab.research.google.com/assets/colab-badge.svg\" alt=\"Open In Colab\"/></a>"
      ]
    },
    {
      "cell_type": "code",
      "execution_count": null,
      "metadata": {
        "colab": {
          "base_uri": "https://localhost:8080/"
        },
        "id": "XEMioG59XODq",
        "outputId": "e22da84f-c000-44f8-8fde-a6855cc646eb"
      },
      "outputs": [
        {
          "output_type": "stream",
          "name": "stdout",
          "text": [
            "/bin/bash: line 1: conda: command not found\n",
            "Requirement already satisfied: torch in /usr/local/lib/python3.11/dist-packages (2.6.0+cu124)\n",
            "Requirement already satisfied: filelock in /usr/local/lib/python3.11/dist-packages (from torch) (3.18.0)\n",
            "Requirement already satisfied: typing-extensions>=4.10.0 in /usr/local/lib/python3.11/dist-packages (from torch) (4.13.2)\n",
            "Requirement already satisfied: networkx in /usr/local/lib/python3.11/dist-packages (from torch) (3.4.2)\n",
            "Requirement already satisfied: jinja2 in /usr/local/lib/python3.11/dist-packages (from torch) (3.1.6)\n",
            "Requirement already satisfied: fsspec in /usr/local/lib/python3.11/dist-packages (from torch) (2025.3.2)\n",
            "Collecting nvidia-cuda-nvrtc-cu12==12.4.127 (from torch)\n",
            "  Downloading nvidia_cuda_nvrtc_cu12-12.4.127-py3-none-manylinux2014_x86_64.whl.metadata (1.5 kB)\n",
            "Collecting nvidia-cuda-runtime-cu12==12.4.127 (from torch)\n",
            "  Downloading nvidia_cuda_runtime_cu12-12.4.127-py3-none-manylinux2014_x86_64.whl.metadata (1.5 kB)\n",
            "Collecting nvidia-cuda-cupti-cu12==12.4.127 (from torch)\n",
            "  Downloading nvidia_cuda_cupti_cu12-12.4.127-py3-none-manylinux2014_x86_64.whl.metadata (1.6 kB)\n",
            "Collecting nvidia-cudnn-cu12==9.1.0.70 (from torch)\n",
            "  Downloading nvidia_cudnn_cu12-9.1.0.70-py3-none-manylinux2014_x86_64.whl.metadata (1.6 kB)\n",
            "Collecting nvidia-cublas-cu12==12.4.5.8 (from torch)\n",
            "  Downloading nvidia_cublas_cu12-12.4.5.8-py3-none-manylinux2014_x86_64.whl.metadata (1.5 kB)\n",
            "Collecting nvidia-cufft-cu12==11.2.1.3 (from torch)\n",
            "  Downloading nvidia_cufft_cu12-11.2.1.3-py3-none-manylinux2014_x86_64.whl.metadata (1.5 kB)\n",
            "Collecting nvidia-curand-cu12==10.3.5.147 (from torch)\n",
            "  Downloading nvidia_curand_cu12-10.3.5.147-py3-none-manylinux2014_x86_64.whl.metadata (1.5 kB)\n",
            "Collecting nvidia-cusolver-cu12==11.6.1.9 (from torch)\n",
            "  Downloading nvidia_cusolver_cu12-11.6.1.9-py3-none-manylinux2014_x86_64.whl.metadata (1.6 kB)\n",
            "Collecting nvidia-cusparse-cu12==12.3.1.170 (from torch)\n",
            "  Downloading nvidia_cusparse_cu12-12.3.1.170-py3-none-manylinux2014_x86_64.whl.metadata (1.6 kB)\n",
            "Requirement already satisfied: nvidia-cusparselt-cu12==0.6.2 in /usr/local/lib/python3.11/dist-packages (from torch) (0.6.2)\n",
            "Requirement already satisfied: nvidia-nccl-cu12==2.21.5 in /usr/local/lib/python3.11/dist-packages (from torch) (2.21.5)\n",
            "Requirement already satisfied: nvidia-nvtx-cu12==12.4.127 in /usr/local/lib/python3.11/dist-packages (from torch) (12.4.127)\n",
            "Collecting nvidia-nvjitlink-cu12==12.4.127 (from torch)\n",
            "  Downloading nvidia_nvjitlink_cu12-12.4.127-py3-none-manylinux2014_x86_64.whl.metadata (1.5 kB)\n",
            "Requirement already satisfied: triton==3.2.0 in /usr/local/lib/python3.11/dist-packages (from torch) (3.2.0)\n",
            "Requirement already satisfied: sympy==1.13.1 in /usr/local/lib/python3.11/dist-packages (from torch) (1.13.1)\n",
            "Requirement already satisfied: mpmath<1.4,>=1.1.0 in /usr/local/lib/python3.11/dist-packages (from sympy==1.13.1->torch) (1.3.0)\n",
            "Requirement already satisfied: MarkupSafe>=2.0 in /usr/local/lib/python3.11/dist-packages (from jinja2->torch) (3.0.2)\n",
            "Downloading nvidia_cublas_cu12-12.4.5.8-py3-none-manylinux2014_x86_64.whl (363.4 MB)\n",
            "\u001b[2K   \u001b[90m━━━━━━━━━━━━━━━━━━━━━━━━━━━━━━━━━━━━━━━━\u001b[0m \u001b[32m363.4/363.4 MB\u001b[0m \u001b[31m4.4 MB/s\u001b[0m eta \u001b[36m0:00:00\u001b[0m\n",
            "\u001b[?25hDownloading nvidia_cuda_cupti_cu12-12.4.127-py3-none-manylinux2014_x86_64.whl (13.8 MB)\n",
            "\u001b[2K   \u001b[90m━━━━━━━━━━━━━━━━━━━━━━━━━━━━━━━━━━━━━━━━\u001b[0m \u001b[32m13.8/13.8 MB\u001b[0m \u001b[31m29.8 MB/s\u001b[0m eta \u001b[36m0:00:00\u001b[0m\n",
            "\u001b[?25hDownloading nvidia_cuda_nvrtc_cu12-12.4.127-py3-none-manylinux2014_x86_64.whl (24.6 MB)\n",
            "\u001b[2K   \u001b[90m━━━━━━━━━━━━━━━━━━━━━━━━━━━━━━━━━━━━━━━━\u001b[0m \u001b[32m24.6/24.6 MB\u001b[0m \u001b[31m61.5 MB/s\u001b[0m eta \u001b[36m0:00:00\u001b[0m\n",
            "\u001b[?25hDownloading nvidia_cuda_runtime_cu12-12.4.127-py3-none-manylinux2014_x86_64.whl (883 kB)\n",
            "\u001b[2K   \u001b[90m━━━━━━━━━━━━━━━━━━━━━━━━━━━━━━━━━━━━━━━━\u001b[0m \u001b[32m883.7/883.7 kB\u001b[0m \u001b[31m39.3 MB/s\u001b[0m eta \u001b[36m0:00:00\u001b[0m\n",
            "\u001b[?25hDownloading nvidia_cudnn_cu12-9.1.0.70-py3-none-manylinux2014_x86_64.whl (664.8 MB)\n",
            "\u001b[2K   \u001b[90m━━━━━━━━━━━━━━━━━━━━━━━━━━━━━━━━━━━━━━━━\u001b[0m \u001b[32m664.8/664.8 MB\u001b[0m \u001b[31m2.3 MB/s\u001b[0m eta \u001b[36m0:00:00\u001b[0m\n",
            "\u001b[?25hDownloading nvidia_cufft_cu12-11.2.1.3-py3-none-manylinux2014_x86_64.whl (211.5 MB)\n",
            "\u001b[2K   \u001b[90m━━━━━━━━━━━━━━━━━━━━━━━━━━━━━━━━━━━━━━━━\u001b[0m \u001b[32m211.5/211.5 MB\u001b[0m \u001b[31m5.4 MB/s\u001b[0m eta \u001b[36m0:00:00\u001b[0m\n",
            "\u001b[?25hDownloading nvidia_curand_cu12-10.3.5.147-py3-none-manylinux2014_x86_64.whl (56.3 MB)\n",
            "\u001b[2K   \u001b[90m━━━━━━━━━━━━━━━━━━━━━━━━━━━━━━━━━━━━━━━━\u001b[0m \u001b[32m56.3/56.3 MB\u001b[0m \u001b[31m10.8 MB/s\u001b[0m eta \u001b[36m0:00:00\u001b[0m\n",
            "\u001b[?25hDownloading nvidia_cusolver_cu12-11.6.1.9-py3-none-manylinux2014_x86_64.whl (127.9 MB)\n",
            "\u001b[2K   \u001b[90m━━━━━━━━━━━━━━━━━━━━━━━━━━━━━━━━━━━━━━━━\u001b[0m \u001b[32m127.9/127.9 MB\u001b[0m \u001b[31m7.1 MB/s\u001b[0m eta \u001b[36m0:00:00\u001b[0m\n",
            "\u001b[?25hDownloading nvidia_cusparse_cu12-12.3.1.170-py3-none-manylinux2014_x86_64.whl (207.5 MB)\n",
            "\u001b[2K   \u001b[90m━━━━━━━━━━━━━━━━━━━━━━━━━━━━━━━━━━━━━━━━\u001b[0m \u001b[32m207.5/207.5 MB\u001b[0m \u001b[31m6.1 MB/s\u001b[0m eta \u001b[36m0:00:00\u001b[0m\n",
            "\u001b[?25hDownloading nvidia_nvjitlink_cu12-12.4.127-py3-none-manylinux2014_x86_64.whl (21.1 MB)\n",
            "\u001b[2K   \u001b[90m━━━━━━━━━━━━━━━━━━━━━━━━━━━━━━━━━━━━━━━━\u001b[0m \u001b[32m21.1/21.1 MB\u001b[0m \u001b[31m82.2 MB/s\u001b[0m eta \u001b[36m0:00:00\u001b[0m\n",
            "\u001b[?25hInstalling collected packages: nvidia-nvjitlink-cu12, nvidia-curand-cu12, nvidia-cufft-cu12, nvidia-cuda-runtime-cu12, nvidia-cuda-nvrtc-cu12, nvidia-cuda-cupti-cu12, nvidia-cublas-cu12, nvidia-cusparse-cu12, nvidia-cudnn-cu12, nvidia-cusolver-cu12\n",
            "  Attempting uninstall: nvidia-nvjitlink-cu12\n",
            "    Found existing installation: nvidia-nvjitlink-cu12 12.5.82\n",
            "    Uninstalling nvidia-nvjitlink-cu12-12.5.82:\n",
            "      Successfully uninstalled nvidia-nvjitlink-cu12-12.5.82\n",
            "  Attempting uninstall: nvidia-curand-cu12\n",
            "    Found existing installation: nvidia-curand-cu12 10.3.6.82\n",
            "    Uninstalling nvidia-curand-cu12-10.3.6.82:\n",
            "      Successfully uninstalled nvidia-curand-cu12-10.3.6.82\n",
            "  Attempting uninstall: nvidia-cufft-cu12\n",
            "    Found existing installation: nvidia-cufft-cu12 11.2.3.61\n",
            "    Uninstalling nvidia-cufft-cu12-11.2.3.61:\n",
            "      Successfully uninstalled nvidia-cufft-cu12-11.2.3.61\n"
          ]
        }
      ],
      "source": [
        "!conda install -c pytorch pytorch\n",
        "!pip3 install torch"
      ]
    },
    {
      "cell_type": "code",
      "source": [
        "!wget -q \"https://learnopencv.com/wp-content/uploads/2024/07/mnist_0.jpg\" -O \"mnist_0.jpg\"\n",
        "!wget -q \"https://learnopencv.com/wp-content/uploads/2024/07/mnist_1.jpg\" -O \"mnist_1.jpg\""
      ],
      "metadata": {
        "id": "TY8vEHCnX1WM"
      },
      "execution_count": 11,
      "outputs": []
    },
    {
      "cell_type": "code",
      "source": [
        "import torch\n",
        "import matplotlib.pyplot as plt\n",
        "import numpy as np\n",
        "import cv2"
      ],
      "metadata": {
        "id": "z36pAJCnYZua"
      },
      "execution_count": 12,
      "outputs": []
    },
    {
      "cell_type": "code",
      "source": [
        "print(\"torch version : {}\".format(torch.__version__))"
      ],
      "metadata": {
        "colab": {
          "base_uri": "https://localhost:8080/"
        },
        "id": "hvR6eaiuYjXz",
        "outputId": "fbe6766a-c317-4d58-e25c-40142cecadc2"
      },
      "execution_count": 13,
      "outputs": [
        {
          "output_type": "stream",
          "name": "stdout",
          "text": [
            "torch version : 2.6.0+cu124\n"
          ]
        }
      ]
    },
    {
      "cell_type": "code",
      "source": [
        "digit_0_array_og = cv2.imread(\"mnist_0.jpg\")\n",
        "digit_1_array_og = cv2.imread(\"mnist_1.jpg\")\n",
        "\n",
        "digit_0_array_gray = cv2.imread(\"mnist_0.jpg\",cv2.IMREAD_GRAYSCALE)\n",
        "digit_1_array_gray = cv2.imread(\"mnist_1.jpg\",cv2.IMREAD_GRAYSCALE)\n",
        "\n",
        "#Visualize the image\n",
        "\n",
        "fig, axs = plt.subplots(1,2, figsize=(10,5))\n",
        "\n",
        "axs[0].imshow(digit_0_array_og, cmap=\"gray\", interpolation = 'none')\n",
        "axs[0].set_title(\"Digit 0 Image\")\n",
        "axs[0].axis('off')\n",
        "\n",
        "axs[1].imshow(digit_1_array_og, cmap=\"gray\", interpolation = 'none')\n",
        "axs[1].set_title(\"Digit 1 Image\")\n",
        "axs[1].axis('off')\n",
        "\n",
        "plt.show()"
      ],
      "metadata": {
        "colab": {
          "base_uri": "https://localhost:8080/",
          "height": 411
        },
        "id": "tNIz9zjHYtKJ",
        "outputId": "15f019da-a3e2-4a84-c2a1-1b7c095f4c56"
      },
      "execution_count": 14,
      "outputs": [
        {
          "output_type": "display_data",
          "data": {
            "text/plain": [
              "<Figure size 1000x500 with 2 Axes>"
            ],
            "image/png": "[encoded data removed]"
          },
          "metadata": {}
        }
      ]
    },
    {
      "cell_type": "code",
      "source": [
        "print(\"Image array shape: \", digit_0_array_og.shape)\n",
        "print(f\"Min pixel value: {np.min(digit_0_array_og)}\") ; print(f\"Max pixel value: {np.max(digit_0_array_og)}\")"
      ],
      "metadata": {
        "colab": {
          "base_uri": "https://localhost:8080/"
        },
        "id": "fvWBGCrMb-QC",
        "outputId": "63cb5c7f-6a74-49c8-daad-18aa1316fead"
      },
      "execution_count": 15,
      "outputs": [
        {
          "output_type": "stream",
          "name": "stdout",
          "text": [
            "Image array shape:  (28, 28, 3)\n",
            "Min pixel value: 0\n",
            "Max pixel value: 255\n"
          ]
        }
      ]
    },
    {
      "cell_type": "code",
      "source": [
        "digit_0_array_gray"
      ],
      "metadata": {
        "colab": {
          "base_uri": "https://localhost:8080/",
          "height": 68
        },
        "id": "tLJkMlx7cVvv",
        "outputId": "0416b5a6-a62a-4738-d81c-1ec86edf5c8f"
      },
      "execution_count": 17,
      "outputs": [
        {
          "output_type": "execute_result",
          "data": {
            "text/plain": [
              "array([[  0,   0,   0,   0,   7,   1,   0,   3,   0,  18,   0,   3,   0,\n",
              "          0,   3,   0,   0,   9,   0,   2,   0,  11,   0,   1,   0,   0,\n",
              "          0,   0],\n",
              "       [  0,   7,   7,   0,   0,   0,   0,   0,   2,   8,   0,   4,   0,\n",
              "          0,   0,   6,   4,   0,   2,   3,   2,   0,   0,  11,   0,   0,\n",
              "          0,   0],\n",
              "       [  1,   0,   2,   6,   4,   9,   9,   0,   0,   2,   0,   3,   1,\n",
              "         15,   0,   2,  16,   0,   2,   7,   0,   0,  22,   0,   0,   0,\n",
              "          0,   0],\n",
              "       [ 12,   0,   0,   8,   1,   0,   0,   0,   2,   0,   0,   0,   0,\n",
              "         14,   0,   0,   0,   7,   9,   0,   7,   0,   0,   0,   0,   0,\n",
              "          0,   0],\n",
              "       [  0,   0,   3,   5,   0,   0,   4,  16,   0,  10,  14,   6,  29,\n",
              "        122, 182, 255, 255, 152,  66,  26,   0,   0,  15,   0,   0,   0,\n",
              "          0,   0],\n",
              "       [  0,   7,   5,   0,   9,  12,   0,   0,   4,   0,  49, 184, 255,\n",
              "        255, 232, 255, 255, 231, 246, 227,  64,   0,   0,   4,   0,   0,\n",
              "          0,   0],\n",
              "       [  2,  15,   0,   0,   6,   0,   0,  13,   6, 148, 241, 255, 248,\n",
              "        236, 194, 151, 192, 253, 252, 244, 231, 121,   5,   6,   0,   0,\n",
              "          0,   0],\n",
              "       [  0,   7,   0,   0,   7,   0,  51, 191, 223, 254, 247, 248, 148,\n",
              "         30,   0,   6,  24,   0,  32, 116, 235, 255, 166,   0,   0,   0,\n",
              "          0,   0],\n",
              "       [  0,   4,   0,   0,  10,   0, 132, 246, 255, 247, 199,  77,   0,\n",
              "          0,   2,   0,   0,   7,   0,   0,  60, 238, 226,  46,   2,   0,\n",
              "          1,   5],\n",
              "       [  0,   0,   4,   0,  14,  59, 203, 255, 255, 201,  45,   1,  15,\n",
              "          0,   0,   1,   0,   4,   2,   0,   0, 137, 246, 169,   7,   0,\n",
              "          0,   4],\n",
              "       [  2,   0,   9,   0,   4, 127, 252, 252, 198,  32,   0,   0,   0,\n",
              "          5,   0,   3,   4,   0,   0,   1,   5,  78, 255, 222,  16,   1,\n",
              "          0,   3],\n",
              "       [  5,   0,   8,   0,   0, 150, 254, 247,  46,   7,   0,   8,   9,\n",
              "          0,   4,   3,   3,   0,   0,   4,   0,  19, 248, 254,  25,   4,\n",
              "          0,   2],\n",
              "       [  0,   1,   2,   0,   1, 150, 246, 255,  17,   9,   0,   4,   0,\n",
              "          0,   9,   0,   0,   0,   0,   6,   0,  46, 254, 255,  30,   5,\n",
              "          0,   2],\n",
              "       [  0,   1,   0,   0,   6, 139, 241, 251,  43,   0,  15,   6,   0,\n",
              "          9,   7,   0,   0,   0,   0,   3,  19, 120, 255, 240,  31,   5,\n",
              "          0,   3],\n",
              "       [  2,   0,   0,   2,   1, 133, 249, 197,   0,  27,   0,   0,  18,\n",
              "          0,   0,   8,   0,   7,   1,   0,   0, 153, 245, 255,  29,   3,\n",
              "          0,   5],\n",
              "       [  6,   0,   0,   4,   0, 142, 255, 156,   1,   0,   4,   0,   0,\n",
              "          6,   0,   0,   0,   3,   0,  10,  45, 245, 255, 250,  26,   2,\n",
              "          0,   6],\n",
              "       [  0,   0,   0,   0,   5, 152, 239,  63,   0,  14,   0,   4,   0,\n",
              "          1,   8,   0,   9,   0,   0,   5, 236, 255, 255, 152,   0,   0,\n",
              "          0,   0],\n",
              "       [  0,   9,  11,   0,   1, 126, 255,  59,   0,   1,   0,   5,   0,\n",
              "          1,   2,   0,   0,   0,  27, 169, 255, 247, 217,  26,   0,   0,\n",
              "          0,   0],\n",
              "       [  0,   0,   2,   0,  25,  97, 248,  83,   7,   0,   6,   0,   1,\n",
              "          0,   0,   0,   5,  47, 171, 255, 243, 255, 148,   0,   0,   0,\n",
              "          0,   0],\n",
              "       [  2,   0,  10,   0,   0,  13, 219, 255,  15,   0,  11,   0,   9,\n",
              "          6,   0,   7,  97, 239, 249, 243, 255, 163,  46,   0,   0,   0,\n",
              "          0,   0],\n",
              "       [ 15,   0,   0,   2,   6,   0, 100, 232, 246, 166, 104,  24,  32,\n",
              "         72, 128, 180, 245, 247, 255, 255, 174,   4,   0,   0,   0,   0,\n",
              "          0,   0],\n",
              "       [  0,   0,   8,   3,   0,   2,  63, 226, 254, 248, 255, 246, 255,\n",
              "        255, 255, 255, 255, 255, 237,  88,  13,  13,   0,  17,   0,   0,\n",
              "          0,   0],\n",
              "       [  0,   2,   0,   0,   0,   0,   0,  18, 199, 235, 250, 255, 255,\n",
              "        255, 255, 242, 255, 169,  43,  18,   0,   0,  11,   0,   0,   0,\n",
              "          0,   0],\n",
              "       [  2,   5,   0,   4,   1,   5,   8,   0,   9, 104, 169, 241, 248,\n",
              "        255, 247, 220,  95,  10,   7,   0,   0,   0,   0,   0,   0,   0,\n",
              "          0,   0],\n",
              "       [  0,   0,   0,   0,   0,   0,   0,   0,   0,   0,   0,   0,   0,\n",
              "          0,   0,   0,   0,   0,   0,   0,   0,   0,   0,   0,   0,   0,\n",
              "          0,   0],\n",
              "       [  0,   0,   0,   0,   0,   0,   0,   0,   0,   0,   0,   0,   0,\n",
              "          0,   0,   0,   0,   0,   0,   0,   0,   0,   0,   0,   0,   0,\n",
              "          0,   0],\n",
              "       [  0,   0,   0,   0,   0,   0,   0,   0,   0,   0,   0,   0,   0,\n",
              "          0,   0,   0,   0,   0,   0,   0,   0,   0,   0,   0,   0,   0,\n",
              "          0,   0],\n",
              "       [  0,   0,   0,   0,   0,   0,   0,   0,   0,   0,   0,   0,   0,\n",
              "          0,   0,   0,   0,   0,   0,   0,   0,   0,   0,   0,   0,   0,\n",
              "          0,   0]], dtype=uint8)"
            ],
            "text/html": [
              "<style>\n",
              "      .ndarray_repr .ndarray_raw_data {\n",
              "        display: none;\n",
              "      }\n",
              "      .ndarray_repr.show_array .ndarray_raw_data {\n",
              "        display: block;\n",
              "      }\n",
              "      .ndarray_repr.show_array .ndarray_image_preview {\n",
              "        display: none;\n",
              "      }\n",
              "      </style>\n",
              "      <div id=\"id-8d3fc462-57f7-4796-9952-00d599fc55bd\" class=\"ndarray_repr\"><pre>ndarray (28, 28) <button style=\"padding: 0 2px;\">show data</button></pre><img src=\"data:image/png;base64,iVBORw0KGgoAAAANSUhEUgAAABwAAAAcCAAAAABXZoBIAAAB5ElEQVR4nMWSv2sUURSFv3fnvXnzdrM7cQOSZFHWWhIRywgRKxG0sbEQJGCRP8BGC7WwsQ+aXggsgpWInWJhUGsRURQSJIH8Yo3ZmezOzrXYjfgfeNvD+biccwDwhogGEUQQEKoYAPAeAEmwQGyRSKAKgEFiGwIIkUmRccTD8aFxDBIDCEAd8IEhC4DIgR2nUo9P3H2punxxGtKR5h1hDCxnX6luqm501y+AHT6SQgy1eKmj+fbbJ28Gxe+NOy4eOcFz7vWPMsuXThJP0rq9pSsjrIUKD7uarV4BAQ/nd9dmBeMAS33uo+r7GZOCwQo86rY9WISAvV8U71qAI7Jg3FX9Pm6IcCTwuMxmPUnARhFYJvJyyiK2b3oY8rAuFAUuA4RmbJwBgRJ30C+ms1QIJcBg4rLpGDAiivR7yYdPzU6vkR0meDPYOdVNyxIRC6Ih/mx+WnZjcgqtzNyo9Ac6qs0t781Tx2ISArht1eVhCKGKuadzGBxGgGZbsy/To4iEqYX8mifGAO7MM93XpSOpArWvmlIlxPiFvcN9fTo7FFOQmFub3ZXFydalBy8OMtXn9m/ZSYTMr5W5dlVVVXeu12ocO+ICNFa3eqqqv7R9unG0L8RhjUsIi+1Ortm3m5V/FvQf7g9SnKBxm+913QAAAABJRU5ErkJggg==\" class=\"ndarray_image_preview\" /><pre class=\"ndarray_raw_data\">array([[  0,   0,   0,   0,   7,   1,   0,   3,   0,  18,   0,   3,   0,\n",
              "          0,   3,   0,   0,   9,   0,   2,   0,  11,   0,   1,   0,   0,\n",
              "          0,   0],\n",
              "       [  0,   7,   7,   0,   0,   0,   0,   0,   2,   8,   0,   4,   0,\n",
              "          0,   0,   6,   4,   0,   2,   3,   2,   0,   0,  11,   0,   0,\n",
              "          0,   0],\n",
              "       [  1,   0,   2,   6,   4,   9,   9,   0,   0,   2,   0,   3,   1,\n",
              "         15,   0,   2,  16,   0,   2,   7,   0,   0,  22,   0,   0,   0,\n",
              "          0,   0],\n",
              "       [ 12,   0,   0,   8,   1,   0,   0,   0,   2,   0,   0,   0,   0,\n",
              "         14,   0,   0,   0,   7,   9,   0,   7,   0,   0,   0,   0,   0,\n",
              "          0,   0],\n",
              "       [  0,   0,   3,   5,   0,   0,   4,  16,   0,  10,  14,   6,  29,\n",
              "        122, 182, 255, 255, 152,  66,  26,   0,   0,  15,   0,   0,   0,\n",
              "          0,   0],\n",
              "       [  0,   7,   5,   0,   9,  12,   0,   0,   4,   0,  49, 184, 255,\n",
              "        255, 232, 255, 255, 231, 246, 227,  64,   0,   0,   4,   0,   0,\n",
              "          0,   0],\n",
              "       [  2,  15,   0,   0,   6,   0,   0,  13,   6, 148, 241, 255, 248,\n",
              "        236, 194, 151, 192, 253, 252, 244, 231, 121,   5,   6,   0,   0,\n",
              "          0,   0],\n",
              "       [  0,   7,   0,   0,   7,   0,  51, 191, 223, 254, 247, 248, 148,\n",
              "         30,   0,   6,  24,   0,  32, 116, 235, 255, 166,   0,   0,   0,\n",
              "          0,   0],\n",
              "       [  0,   4,   0,   0,  10,   0, 132, 246, 255, 247, 199,  77,   0,\n",
              "          0,   2,   0,   0,   7,   0,   0,  60, 238, 226,  46,   2,   0,\n",
              "          1,   5],\n",
              "       [  0,   0,   4,   0,  14,  59, 203, 255, 255, 201,  45,   1,  15,\n",
              "          0,   0,   1,   0,   4,   2,   0,   0, 137, 246, 169,   7,   0,\n",
              "          0,   4],\n",
              "       [  2,   0,   9,   0,   4, 127, 252, 252, 198,  32,   0,   0,   0,\n",
              "          5,   0,   3,   4,   0,   0,   1,   5,  78, 255, 222,  16,   1,\n",
              "          0,   3],\n",
              "       [  5,   0,   8,   0,   0, 150, 254, 247,  46,   7,   0,   8,   9,\n",
              "          0,   4,   3,   3,   0,   0,   4,   0,  19, 248, 254,  25,   4,\n",
              "          0,   2],\n",
              "       [  0,   1,   2,   0,   1, 150, 246, 255,  17,   9,   0,   4,   0,\n",
              "          0,   9,   0,   0,   0,   0,   6,   0,  46, 254, 255,  30,   5,\n",
              "          0,   2],\n",
              "       [  0,   1,   0,   0,   6, 139, 241, 251,  43,   0,  15,   6,   0,\n",
              "          9,   7,   0,   0,   0,   0,   3,  19, 120, 255, 240,  31,   5,\n",
              "          0,   3],\n",
              "       [  2,   0,   0,   2,   1, 133, 249, 197,   0,  27,   0,   0,  18,\n",
              "          0,   0,   8,   0,   7,   1,   0,   0, 153, 245, 255,  29,   3,\n",
              "          0,   5],\n",
              "       [  6,   0,   0,   4,   0, 142, 255, 156,   1,   0,   4,   0,   0,\n",
              "          6,   0,   0,   0,   3,   0,  10,  45, 245, 255, 250,  26,   2,\n",
              "          0,   6],\n",
              "       [  0,   0,   0,   0,   5, 152, 239,  63,   0,  14,   0,   4,   0,\n",
              "          1,   8,   0,   9,   0,   0,   5, 236, 255, 255, 152,   0,   0,\n",
              "          0,   0],\n",
              "       [  0,   9,  11,   0,   1, 126, 255,  59,   0,   1,   0,   5,   0,\n",
              "          1,   2,   0,   0,   0,  27, 169, 255, 247, 217,  26,   0,   0,\n",
              "          0,   0],\n",
              "       [  0,   0,   2,   0,  25,  97, 248,  83,   7,   0,   6,   0,   1,\n",
              "          0,   0,   0,   5,  47, 171, 255, 243, 255, 148,   0,   0,   0,\n",
              "          0,   0],\n",
              "       [  2,   0,  10,   0,   0,  13, 219, 255,  15,   0,  11,   0,   9,\n",
              "          6,   0,   7,  97, 239, 249, 243, 255, 163,  46,   0,   0,   0,\n",
              "          0,   0],\n",
              "       [ 15,   0,   0,   2,   6,   0, 100, 232, 246, 166, 104,  24,  32,\n",
              "         72, 128, 180, 245, 247, 255, 255, 174,   4,   0,   0,   0,   0,\n",
              "          0,   0],\n",
              "       [  0,   0,   8,   3,   0,   2,  63, 226, 254, 248, 255, 246, 255,\n",
              "        255, 255, 255, 255, 255, 237,  88,  13,  13,   0,  17,   0,   0,\n",
              "          0,   0],\n",
              "       [  0,   2,   0,   0,   0,   0,   0,  18, 199, 235, 250, 255, 255,\n",
              "        255, 255, 242, 255, 169,  43,  18,   0,   0,  11,   0,   0,   0,\n",
              "          0,   0],\n",
              "       [  2,   5,   0,   4,   1,   5,   8,   0,   9, 104, 169, 241, 248,\n",
              "        255, 247, 220,  95,  10,   7,   0,   0,   0,   0,   0,   0,   0,\n",
              "          0,   0],\n",
              "       [  0,   0,   0,   0,   0,   0,   0,   0,   0,   0,   0,   0,   0,\n",
              "          0,   0,   0,   0,   0,   0,   0,   0,   0,   0,   0,   0,   0,\n",
              "          0,   0],\n",
              "       [  0,   0,   0,   0,   0,   0,   0,   0,   0,   0,   0,   0,   0,\n",
              "          0,   0,   0,   0,   0,   0,   0,   0,   0,   0,   0,   0,   0,\n",
              "          0,   0],\n",
              "       [  0,   0,   0,   0,   0,   0,   0,   0,   0,   0,   0,   0,   0,\n",
              "          0,   0,   0,   0,   0,   0,   0,   0,   0,   0,   0,   0,   0,\n",
              "          0,   0],\n",
              "       [  0,   0,   0,   0,   0,   0,   0,   0,   0,   0,   0,   0,   0,\n",
              "          0,   0,   0,   0,   0,   0,   0,   0,   0,   0,   0,   0,   0,\n",
              "          0,   0]], dtype=uint8)</pre></div><script>\n",
              "      (() => {\n",
              "      const titles = ['show data', 'hide data'];\n",
              "      let index = 0\n",
              "      document.querySelector('#id-8d3fc462-57f7-4796-9952-00d599fc55bd button').onclick = (e) => {\n",
              "        document.querySelector('#id-8d3fc462-57f7-4796-9952-00d599fc55bd').classList.toggle('show_array');\n",
              "        index = (++index) % 2;\n",
              "        document.querySelector('#id-8d3fc462-57f7-4796-9952-00d599fc55bd button').textContent = titles[index];\n",
              "        e.preventDefault();\n",
              "        e.stopPropagation();\n",
              "      }\n",
              "      })();\n",
              "    </script>"
            ]
          },
          "metadata": {},
          "execution_count": 17
        }
      ]
    },
    {
      "cell_type": "code",
      "source": [
        "#Convert the Images to PyTorch tensors and normalize\n",
        "img_tensor_0 = torch.tensor(digit_0_array_og , dtype=torch.float32) / 255.0\n",
        "img_tensor_1 = torch.tensor(digit_1_array_og, dtype=torch.float32) / 255.0\n",
        "\n",
        "print(\"Shape of Normalised Digit 0 Tensor: \", img_tensor_0.shape)\n",
        "print(\"Normalised Min pixel value: {torch.min(img_tensor_0)} ; Normalised Max pixel value: {torch.max(img_tensor_0)}\")\n",
        "\n",
        "plt.imshow(img_tensor_0, cmap='gray')\n",
        "plt.title(\"Normalised Digit 0 Tensor\")\n",
        "plt.axis('off')\n",
        "plt.show()"
      ],
      "metadata": {
        "colab": {
          "base_uri": "https://localhost:8080/",
          "height": 464
        },
        "id": "y8WwHls4czpE",
        "outputId": "df86d62a-04ba-41da-d048-b17d3142eb75"
      },
      "execution_count": 18,
      "outputs": [
        {
          "output_type": "stream",
          "name": "stdout",
          "text": [
            "Shape of Normalised Digit 0 Tensor:  torch.Size([28, 28, 3])\n",
            "Normalised Min pixel value: {torch.min(img_tensor_0)} ; Normalised Max pixel value: {torch.max(img_tensor_0)}\n"
          ]
        },
        {
          "output_type": "display_data",
          "data": {
            "text/plain": [
              "<Figure size 640x480 with 1 Axes>"
            ],
            "image/png": "[encoded data removed]"
          },
          "metadata": {}
        }
      ]
    },
    {
      "cell_type": "code",
      "source": [
        "batch_tensor = torch.stack([img_tensor_0, img_tensor_1])\n",
        "\n",
        "#In Pytorch the forward pass of input images to the model is expected to have a batch_size > 1\n",
        "print(\"Shape of Batch Tensor: \", batch_tensor.shape)"
      ],
      "metadata": {
        "colab": {
          "base_uri": "https://localhost:8080/"
        },
        "id": "Fps_n1CTe0WH",
        "outputId": "52bf5a30-5291-4268-f0da-45a82e52213a"
      },
      "execution_count": 19,
      "outputs": [
        {
          "output_type": "stream",
          "name": "stdout",
          "text": [
            "Shape of Batch Tensor:  torch.Size([2, 28, 28, 3])\n"
          ]
        }
      ]
    },
    {
      "cell_type": "code",
      "source": [
        "batch_input = batch_tensor.permute(0,3,1,2)\n",
        "print(\"Shape of Batch Input Tensor: \", batch_input.shape)"
      ],
      "metadata": {
        "colab": {
          "base_uri": "https://localhost:8080/"
        },
        "id": "PZw26ln1fL3V",
        "outputId": "13c23a0f-ff6d-420f-df91-c49fa14cccf2"
      },
      "execution_count": 21,
      "outputs": [
        {
          "output_type": "stream",
          "name": "stdout",
          "text": [
            "Shape of Batch Input Tensor:  torch.Size([2, 3, 28, 28])\n"
          ]
        }
      ]
    },
    {
      "cell_type": "code",
      "source": [
        "#Create a Tensor with just ones in a column\n",
        "a = torch.ones(5)\n",
        "#Print the tensor we created\n",
        "print(a)\n",
        "\n",
        "#Create a Tensor with just zeros in a column\n",
        "b = torch.zeros(5)\n",
        "#Print the tensor we created\n",
        "print(b)"
      ],
      "metadata": {
        "colab": {
          "base_uri": "https://localhost:8080/"
        },
        "id": "GquRQ24Ifv-7",
        "outputId": "01573970-26b5-4f66-db29-01bbcefede47"
      },
      "execution_count": 22,
      "outputs": [
        {
          "output_type": "stream",
          "name": "stdout",
          "text": [
            "tensor([1., 1., 1., 1., 1.])\n",
            "tensor([0., 0., 0., 0., 0.])\n"
          ]
        }
      ]
    },
    {
      "cell_type": "code",
      "source": [
        "c = torch.tensor([1.0, 2.0, 3.0, 4.0, 5.0])\n",
        "print(c)"
      ],
      "metadata": {
        "colab": {
          "base_uri": "https://localhost:8080/"
        },
        "id": "zySlQPZ3gI7Q",
        "outputId": "aa002fd7-913a-497a-fb66-d9bf6bc2df77"
      },
      "execution_count": 23,
      "outputs": [
        {
          "output_type": "stream",
          "name": "stdout",
          "text": [
            "tensor([1., 2., 3., 4., 5.])\n"
          ]
        }
      ]
    },
    {
      "cell_type": "code",
      "source": [
        "d = torch.zeros(3,2)\n",
        "print(d)\n",
        "\n",
        "e = torch.ones(3,2)\n",
        "print(e)\n",
        "\n",
        "f = torch.tensor([[1.0,2.0],[3.0,4.0]])\n",
        "print(f)\n",
        "\n",
        "#3D Tensor\n",
        "g = torch.tensor([[[1.,2.],[3.,4.]],[[5.,6.],[7.,8.]]])\n",
        "print(g)"
      ],
      "metadata": {
        "colab": {
          "base_uri": "https://localhost:8080/"
        },
        "id": "RRLlONIQgXdu",
        "outputId": "51c694e4-d6ba-46c2-83dd-c6d46d44b15a"
      },
      "execution_count": 26,
      "outputs": [
        {
          "output_type": "stream",
          "name": "stdout",
          "text": [
            "tensor([[0., 0.],\n",
            "        [0., 0.],\n",
            "        [0., 0.]])\n",
            "tensor([[1., 1.],\n",
            "        [1., 1.],\n",
            "        [1., 1.]])\n",
            "tensor([[1., 2.],\n",
            "        [3., 4.]])\n",
            "tensor([[[1., 2.],\n",
            "         [3., 4.]],\n",
            "\n",
            "        [[5., 6.],\n",
            "         [7., 8.]]])\n"
          ]
        }
      ]
    },
    {
      "cell_type": "code",
      "source": [
        "print(f.shape)\n",
        "\n",
        "print(e.shape)\n",
        "\n",
        "print(g.shape)"
      ],
      "metadata": {
        "colab": {
          "base_uri": "https://localhost:8080/"
        },
        "id": "Von-p7Qgg8Xw",
        "outputId": "a4486b31-c937-4043-d348-622c6c4b0870"
      },
      "execution_count": 27,
      "outputs": [
        {
          "output_type": "stream",
          "name": "stdout",
          "text": [
            "torch.Size([2, 2])\n",
            "torch.Size([3, 2])\n",
            "torch.Size([2, 2, 2])\n"
          ]
        }
      ]
    },
    {
      "cell_type": "code",
      "source": [
        "print(c[2])"
      ],
      "metadata": {
        "colab": {
          "base_uri": "https://localhost:8080/"
        },
        "id": "jJ9JD81FhIz0",
        "outputId": "008686e8-5fe2-49a3-d9db-1befbd4ea35d"
      },
      "execution_count": 28,
      "outputs": [
        {
          "output_type": "stream",
          "name": "stdout",
          "text": [
            "tensor(3.)\n"
          ]
        }
      ]
    },
    {
      "cell_type": "code",
      "source": [
        "# All indices starting from 0\n",
        "\n",
        "# Get element at row 1, column 0\n",
        "print(f[1,0])\n",
        "\n",
        "# We can also use the following\n",
        "print(f[1][0])\n",
        "\n",
        "# Similarly for 3D Tensor\n",
        "print(g[1,0,0])\n",
        "print(g[1][0][0])"
      ],
      "metadata": {
        "colab": {
          "base_uri": "https://localhost:8080/"
        },
        "id": "5RKVS_IDhMGN",
        "outputId": "42019032-7878-46e9-b8e1-f9cd9d70f934"
      },
      "execution_count": 29,
      "outputs": [
        {
          "output_type": "stream",
          "name": "stdout",
          "text": [
            "tensor(3.)\n",
            "tensor(3.)\n",
            "tensor(5.)\n",
            "tensor(5.)\n"
          ]
        }
      ]
    },
    {
      "cell_type": "code",
      "source": [
        "# All elements\n",
        "print(f[:])\n",
        "\n",
        "# All elements from index 1 to 2 (inclusive)\n",
        "print(c[1:3])\n",
        "\n",
        "# All elements till index 4 (exclusive)\n",
        "print(c[:4])\n",
        "\n",
        "# All elements from index 2 onwards\n",
        "print(c[2:])\n",
        "\n",
        "# First row\n",
        "print(f[0,:])\n",
        "\n",
        "# Second column\n",
        "print(f[:,1])"
      ],
      "metadata": {
        "colab": {
          "base_uri": "https://localhost:8080/"
        },
        "id": "7F_n16eOhrCf",
        "outputId": "61e554cb-7f5a-49aa-92e5-2594d02dd28a"
      },
      "execution_count": 32,
      "outputs": [
        {
          "output_type": "stream",
          "name": "stdout",
          "text": [
            "tensor([[1., 2.],\n",
            "        [3., 4.]])\n",
            "tensor([2., 3.])\n",
            "tensor([1., 2., 3., 4.])\n",
            "tensor([3., 4., 5.])\n",
            "tensor([1., 2.])\n",
            "tensor([2., 4.])\n"
          ]
        }
      ]
    },
    {
      "cell_type": "code",
      "source": [
        "int_tensor = torch.tensor([[1,2,3],[4,5,6]])\n",
        "print(int_tensor.dtype)\n",
        "\n",
        "float_tensor = torch.tensor([1.0,2.0,3.0,4.0,5.0])\n",
        "print(float_tensor.dtype)\n",
        "\n",
        "# What if we changed any one element to floating point number?\n",
        "int_tensor = torch.tensor([[1,2,3],[4,5,6]])\n",
        "print(int_tensor.dtype)\n",
        "print(int_tensor)\n",
        "\n",
        "# This can be overridden as follows\n",
        "float_tensor = torch.tensor([[1, 2, 3],[4., 5, 6]])\n",
        "int_tensor = float_tensor.type(torch.int64)\n",
        "print(int_tensor.dtype)\n",
        "print(int_tensor)"
      ],
      "metadata": {
        "colab": {
          "base_uri": "https://localhost:8080/"
        },
        "id": "r5p8cn0dh9Ix",
        "outputId": "a6f35343-a866-45ef-86c7-39edaa1a5556"
      },
      "execution_count": 33,
      "outputs": [
        {
          "output_type": "stream",
          "name": "stdout",
          "text": [
            "torch.int64\n",
            "torch.float32\n",
            "torch.int64\n",
            "tensor([[1, 2, 3],\n",
            "        [4, 5, 6]])\n",
            "torch.int64\n",
            "tensor([[1, 2, 3],\n",
            "        [4, 5, 6]])\n"
          ]
        }
      ]
    },
    {
      "cell_type": "code",
      "source": [
        "# Tensor to Array\n",
        "f_numpy = f.numpy()\n",
        "print(f_numpy)\n",
        "print(type(f_numpy))\n",
        "\n",
        "# Array to Tensor\n",
        "h = np.array([[8,7,6,5],[4,3,2,1]])\n",
        "h_tensor = torch.from_numpy(h)\n",
        "print(h_tensor)\n",
        "print(type(h_tensor))"
      ],
      "metadata": {
        "colab": {
          "base_uri": "https://localhost:8080/"
        },
        "id": "bupv8_K8iG3d",
        "outputId": "03e49a18-2f17-42ee-9d08-a1731d1d26ac"
      },
      "execution_count": 34,
      "outputs": [
        {
          "output_type": "stream",
          "name": "stdout",
          "text": [
            "[[1. 2.]\n",
            " [3. 4.]]\n",
            "<class 'numpy.ndarray'>\n",
            "tensor([[8, 7, 6, 5],\n",
            "        [4, 3, 2, 1]])\n",
            "<class 'torch.Tensor'>\n"
          ]
        }
      ]
    },
    {
      "cell_type": "code",
      "source": [
        "# Create tensor\n",
        "tensor1 = torch.tensor([[1, 2, 3], [4, 5, 6]])\n",
        "tensor2 = torch.tensor([[-1, 2, -3], [4, -5, 6]])\n",
        "\n",
        "# Addition\n",
        "print(tensor1 + tensor2)\n",
        "print(torch.add(tensor1, tensor2))\n",
        "\n",
        "# Subtraction\n",
        "print(tensor1 - tensor2)\n",
        "print(torch.sub(tensor1, tensor2))\n",
        "\n",
        "# Multiplication\n",
        "# Tensor with Scalar\n",
        "print(tensor1 * 2)\n",
        "\n",
        "# Tensor with another tensor\n",
        "print(tensor1 * tensor2)\n",
        "print(torch.mul(tensor1, tensor2))\n",
        "\n",
        "# Matrix multiplication\n",
        "tensor3 = torch.tensor([[1,2],[3,4],[5,6]])\n",
        "print(tensor1.mm(tensor3))\n",
        "print(torch.mm(tensor1, tensor3))\n",
        "\n",
        "# Division\n",
        "# Tensor with scalar\n",
        "print(tensor1 / 2)\n",
        "\n",
        "# Tensor with another tensor\n",
        "# Elementwise division\n",
        "print(tensor1 / tensor2)\n",
        "print(torch.div(tensor1, tensor2))\n",
        "\n"
      ],
      "metadata": {
        "colab": {
          "base_uri": "https://localhost:8080/"
        },
        "id": "qWr4Yo2Ej3oz",
        "outputId": "ead6fd84-c55f-4a4c-9665-208d22cf27b5"
      },
      "execution_count": 35,
      "outputs": [
        {
          "output_type": "stream",
          "name": "stdout",
          "text": [
            "tensor([[ 0,  4,  0],\n",
            "        [ 8,  0, 12]])\n",
            "tensor([[ 0,  4,  0],\n",
            "        [ 8,  0, 12]])\n",
            "tensor([[ 2,  0,  6],\n",
            "        [ 0, 10,  0]])\n",
            "tensor([[ 2,  0,  6],\n",
            "        [ 0, 10,  0]])\n",
            "tensor([[ 2,  4,  6],\n",
            "        [ 8, 10, 12]])\n",
            "tensor([[ -1,   4,  -9],\n",
            "        [ 16, -25,  36]])\n",
            "tensor([[ -1,   4,  -9],\n",
            "        [ 16, -25,  36]])\n",
            "tensor([[22, 28],\n",
            "        [49, 64]])\n",
            "tensor([[22, 28],\n",
            "        [49, 64]])\n",
            "tensor([[0.5000, 1.0000, 1.5000],\n",
            "        [2.0000, 2.5000, 3.0000]])\n",
            "tensor([[-1.,  1., -1.],\n",
            "        [ 1., -1.,  1.]])\n",
            "tensor([[-1.,  1., -1.],\n",
            "        [ 1., -1.,  1.]])\n"
          ]
        }
      ]
    },
    {
      "cell_type": "code",
      "source": [
        "# Create two 1-dimensional tensors\n",
        "a = torch.tensor([1, 2, 3])\n",
        "b = torch.tensor([4])\n",
        "\n",
        "# adding a scalar to a vector\n",
        "result = a + b\n",
        "print(\"Result of Broadcasting:\\n\",result)\n"
      ],
      "metadata": {
        "colab": {
          "base_uri": "https://localhost:8080/"
        },
        "id": "FkE1wp1Mk8c0",
        "outputId": "e3b39b3c-6539-4fb3-ec85-8b2246e2ff32"
      },
      "execution_count": 36,
      "outputs": [
        {
          "output_type": "stream",
          "name": "stdout",
          "text": [
            "Result of Broadcasting:\n",
            " tensor([5, 6, 7])\n"
          ]
        }
      ]
    },
    {
      "cell_type": "code",
      "source": [
        "# Create two tensors with shapes (1,3) and (3,1)\n",
        "a = torch.tensor([[1, 2, 3]])\n",
        "b = torch.tensor([[4], [5], [6]])\n",
        "\n",
        "# adding tensors of different shapes\n",
        "result = a + b\n",
        "print(\"Shape: \",result.shape)\n",
        "print(\"\\n\")\n",
        "print(\"Result of Broadcasting:\\n\",result)"
      ],
      "metadata": {
        "colab": {
          "base_uri": "https://localhost:8080/"
        },
        "id": "kIvaogzGleAR",
        "outputId": "2ed5cf17-b8fa-46c5-d4ab-501db1a30195"
      },
      "execution_count": 37,
      "outputs": [
        {
          "output_type": "stream",
          "name": "stdout",
          "text": [
            "Shape:  torch.Size([3, 3])\n",
            "\n",
            "\n",
            "Result of Broadcasting:\n",
            " tensor([[5, 6, 7],\n",
            "        [6, 7, 8],\n",
            "        [7, 8, 9]])\n"
          ]
        }
      ]
    },
    {
      "cell_type": "code",
      "source": [
        "# Create a tensor for CPU\n",
        "# This will occupy CPU RAM\n",
        "tensor_cpu = torch.tensor([[1.0,2.0],[3.0,4.0],[5.0,6.0]], device='cpu')\n",
        "\n",
        "# Create a tensor for GPU\n",
        "# This will occupy GPU RAM\n",
        "tensor_gpu = torch.tensor([[1.0,2.0],[3.0,4.0],[5.0,6.0]], device='cuda')"
      ],
      "metadata": {
        "id": "CRuTNb3gl7Gy"
      },
      "execution_count": 38,
      "outputs": []
    },
    {
      "cell_type": "code",
      "source": [
        "# This uses CPU RAM\n",
        "tensor_cpu = tensor_cpu * 5\n",
        "\n",
        "# This uses GPU RAM\n",
        "# Focus on GPU RAM Consumption\n",
        "tensor_gpu = tensor_gpu * 5"
      ],
      "metadata": {
        "id": "NiovZxDRmRG1"
      },
      "execution_count": 39,
      "outputs": []
    },
    {
      "cell_type": "code",
      "source": [
        "# Move GPU tensor to CPU\n",
        "tensor_gpu_cpu = tensor_gpu.to(device='cpu')\n",
        "\n",
        "# Move CPU tensor to GPU\n",
        "tensor_cpu_gpu = tensor_cpu.to(device='cuda')"
      ],
      "metadata": {
        "id": "bdh8LzdvmQ3t"
      },
      "execution_count": 40,
      "outputs": []
    }
  ]
}